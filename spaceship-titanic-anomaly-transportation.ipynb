{
 "cells": [
  {
   "cell_type": "code",
   "execution_count": 3,
   "metadata": {
    "_cell_guid": "b1076dfc-b9ad-4769-8c92-a6c4dae69d19",
    "_uuid": "8f2839f25d086af736a60e9eeb907d3b93b6e0e5",
    "execution": {
     "iopub.execute_input": "2022-07-17T23:09:40.017422Z",
     "iopub.status.busy": "2022-07-17T23:09:40.015488Z",
     "iopub.status.idle": "2022-07-17T23:09:40.046897Z",
     "shell.execute_reply": "2022-07-17T23:09:40.046199Z",
     "shell.execute_reply.started": "2022-07-17T23:09:40.015863Z"
    }
   },
   "outputs": [],
   "source": [
    "import numpy as np \n",
    "import pandas as pd "
   ]
  },
  {
   "cell_type": "code",
   "execution_count": 4,
   "metadata": {
    "execution": {
     "iopub.execute_input": "2022-07-17T23:09:40.048760Z",
     "iopub.status.busy": "2022-07-17T23:09:40.048259Z",
     "iopub.status.idle": "2022-07-17T23:09:40.124195Z",
     "shell.execute_reply": "2022-07-17T23:09:40.123068Z",
     "shell.execute_reply.started": "2022-07-17T23:09:40.048728Z"
    }
   },
   "outputs": [
    {
     "data": {
      "text/html": [
       "<div>\n",
       "<style scoped>\n",
       "    .dataframe tbody tr th:only-of-type {\n",
       "        vertical-align: middle;\n",
       "    }\n",
       "\n",
       "    .dataframe tbody tr th {\n",
       "        vertical-align: top;\n",
       "    }\n",
       "\n",
       "    .dataframe thead th {\n",
       "        text-align: right;\n",
       "    }\n",
       "</style>\n",
       "<table border=\"1\" class=\"dataframe\">\n",
       "  <thead>\n",
       "    <tr style=\"text-align: right;\">\n",
       "      <th></th>\n",
       "      <th>PassengerId</th>\n",
       "      <th>HomePlanet</th>\n",
       "      <th>CryoSleep</th>\n",
       "      <th>Cabin</th>\n",
       "      <th>Destination</th>\n",
       "      <th>Age</th>\n",
       "      <th>VIP</th>\n",
       "      <th>RoomService</th>\n",
       "      <th>FoodCourt</th>\n",
       "      <th>ShoppingMall</th>\n",
       "      <th>Spa</th>\n",
       "      <th>VRDeck</th>\n",
       "      <th>Name</th>\n",
       "      <th>Transported</th>\n",
       "    </tr>\n",
       "  </thead>\n",
       "  <tbody>\n",
       "    <tr>\n",
       "      <th>0</th>\n",
       "      <td>0001_01</td>\n",
       "      <td>Europa</td>\n",
       "      <td>False</td>\n",
       "      <td>B/0/P</td>\n",
       "      <td>TRAPPIST-1e</td>\n",
       "      <td>39.0</td>\n",
       "      <td>False</td>\n",
       "      <td>0.0</td>\n",
       "      <td>0.0</td>\n",
       "      <td>0.0</td>\n",
       "      <td>0.0</td>\n",
       "      <td>0.0</td>\n",
       "      <td>Maham Ofracculy</td>\n",
       "      <td>False</td>\n",
       "    </tr>\n",
       "    <tr>\n",
       "      <th>1</th>\n",
       "      <td>0002_01</td>\n",
       "      <td>Earth</td>\n",
       "      <td>False</td>\n",
       "      <td>F/0/S</td>\n",
       "      <td>TRAPPIST-1e</td>\n",
       "      <td>24.0</td>\n",
       "      <td>False</td>\n",
       "      <td>109.0</td>\n",
       "      <td>9.0</td>\n",
       "      <td>25.0</td>\n",
       "      <td>549.0</td>\n",
       "      <td>44.0</td>\n",
       "      <td>Juanna Vines</td>\n",
       "      <td>True</td>\n",
       "    </tr>\n",
       "    <tr>\n",
       "      <th>2</th>\n",
       "      <td>0003_01</td>\n",
       "      <td>Europa</td>\n",
       "      <td>False</td>\n",
       "      <td>A/0/S</td>\n",
       "      <td>TRAPPIST-1e</td>\n",
       "      <td>58.0</td>\n",
       "      <td>True</td>\n",
       "      <td>43.0</td>\n",
       "      <td>3576.0</td>\n",
       "      <td>0.0</td>\n",
       "      <td>6715.0</td>\n",
       "      <td>49.0</td>\n",
       "      <td>Altark Susent</td>\n",
       "      <td>False</td>\n",
       "    </tr>\n",
       "    <tr>\n",
       "      <th>3</th>\n",
       "      <td>0003_02</td>\n",
       "      <td>Europa</td>\n",
       "      <td>False</td>\n",
       "      <td>A/0/S</td>\n",
       "      <td>TRAPPIST-1e</td>\n",
       "      <td>33.0</td>\n",
       "      <td>False</td>\n",
       "      <td>0.0</td>\n",
       "      <td>1283.0</td>\n",
       "      <td>371.0</td>\n",
       "      <td>3329.0</td>\n",
       "      <td>193.0</td>\n",
       "      <td>Solam Susent</td>\n",
       "      <td>False</td>\n",
       "    </tr>\n",
       "    <tr>\n",
       "      <th>4</th>\n",
       "      <td>0004_01</td>\n",
       "      <td>Earth</td>\n",
       "      <td>False</td>\n",
       "      <td>F/1/S</td>\n",
       "      <td>TRAPPIST-1e</td>\n",
       "      <td>16.0</td>\n",
       "      <td>False</td>\n",
       "      <td>303.0</td>\n",
       "      <td>70.0</td>\n",
       "      <td>151.0</td>\n",
       "      <td>565.0</td>\n",
       "      <td>2.0</td>\n",
       "      <td>Willy Santantines</td>\n",
       "      <td>True</td>\n",
       "    </tr>\n",
       "  </tbody>\n",
       "</table>\n",
       "</div>"
      ],
      "text/plain": [
       "  PassengerId HomePlanet CryoSleep  Cabin  Destination   Age    VIP  \\\n",
       "0     0001_01     Europa     False  B/0/P  TRAPPIST-1e  39.0  False   \n",
       "1     0002_01      Earth     False  F/0/S  TRAPPIST-1e  24.0  False   \n",
       "2     0003_01     Europa     False  A/0/S  TRAPPIST-1e  58.0   True   \n",
       "3     0003_02     Europa     False  A/0/S  TRAPPIST-1e  33.0  False   \n",
       "4     0004_01      Earth     False  F/1/S  TRAPPIST-1e  16.0  False   \n",
       "\n",
       "   RoomService  FoodCourt  ShoppingMall     Spa  VRDeck               Name  \\\n",
       "0          0.0        0.0           0.0     0.0     0.0    Maham Ofracculy   \n",
       "1        109.0        9.0          25.0   549.0    44.0       Juanna Vines   \n",
       "2         43.0     3576.0           0.0  6715.0    49.0      Altark Susent   \n",
       "3          0.0     1283.0         371.0  3329.0   193.0       Solam Susent   \n",
       "4        303.0       70.0         151.0   565.0     2.0  Willy Santantines   \n",
       "\n",
       "   Transported  \n",
       "0        False  \n",
       "1         True  \n",
       "2        False  \n",
       "3        False  \n",
       "4         True  "
      ]
     },
     "execution_count": 4,
     "metadata": {},
     "output_type": "execute_result"
    }
   ],
   "source": [
    "# Read the training data\n",
    "train_df = pd.read_csv('train.csv')\n",
    "train_df.head()"
   ]
  },
  {
   "cell_type": "markdown",
   "metadata": {},
   "source": [
    "**To See if there are missing values in the training data**"
   ]
  },
  {
   "cell_type": "code",
   "execution_count": 5,
   "metadata": {
    "execution": {
     "iopub.execute_input": "2022-07-17T23:09:40.126686Z",
     "iopub.status.busy": "2022-07-17T23:09:40.126154Z",
     "iopub.status.idle": "2022-07-17T23:09:40.147821Z",
     "shell.execute_reply": "2022-07-17T23:09:40.146633Z",
     "shell.execute_reply.started": "2022-07-17T23:09:40.126641Z"
    }
   },
   "outputs": [
    {
     "data": {
      "text/html": [
       "<div>\n",
       "<style scoped>\n",
       "    .dataframe tbody tr th:only-of-type {\n",
       "        vertical-align: middle;\n",
       "    }\n",
       "\n",
       "    .dataframe tbody tr th {\n",
       "        vertical-align: top;\n",
       "    }\n",
       "\n",
       "    .dataframe thead th {\n",
       "        text-align: right;\n",
       "    }\n",
       "</style>\n",
       "<table border=\"1\" class=\"dataframe\">\n",
       "  <thead>\n",
       "    <tr style=\"text-align: right;\">\n",
       "      <th></th>\n",
       "      <th>PassengerId</th>\n",
       "      <th>HomePlanet</th>\n",
       "      <th>CryoSleep</th>\n",
       "      <th>Cabin</th>\n",
       "      <th>Destination</th>\n",
       "      <th>Age</th>\n",
       "      <th>VIP</th>\n",
       "      <th>RoomService</th>\n",
       "      <th>FoodCourt</th>\n",
       "      <th>ShoppingMall</th>\n",
       "      <th>Spa</th>\n",
       "      <th>VRDeck</th>\n",
       "      <th>Name</th>\n",
       "      <th>Transported</th>\n",
       "    </tr>\n",
       "  </thead>\n",
       "  <tbody>\n",
       "    <tr>\n",
       "      <th>0</th>\n",
       "      <td>False</td>\n",
       "      <td>False</td>\n",
       "      <td>False</td>\n",
       "      <td>False</td>\n",
       "      <td>False</td>\n",
       "      <td>False</td>\n",
       "      <td>False</td>\n",
       "      <td>False</td>\n",
       "      <td>False</td>\n",
       "      <td>False</td>\n",
       "      <td>False</td>\n",
       "      <td>False</td>\n",
       "      <td>False</td>\n",
       "      <td>False</td>\n",
       "    </tr>\n",
       "    <tr>\n",
       "      <th>1</th>\n",
       "      <td>False</td>\n",
       "      <td>False</td>\n",
       "      <td>False</td>\n",
       "      <td>False</td>\n",
       "      <td>False</td>\n",
       "      <td>False</td>\n",
       "      <td>False</td>\n",
       "      <td>False</td>\n",
       "      <td>False</td>\n",
       "      <td>False</td>\n",
       "      <td>False</td>\n",
       "      <td>False</td>\n",
       "      <td>False</td>\n",
       "      <td>False</td>\n",
       "    </tr>\n",
       "    <tr>\n",
       "      <th>2</th>\n",
       "      <td>False</td>\n",
       "      <td>False</td>\n",
       "      <td>False</td>\n",
       "      <td>False</td>\n",
       "      <td>False</td>\n",
       "      <td>False</td>\n",
       "      <td>False</td>\n",
       "      <td>False</td>\n",
       "      <td>False</td>\n",
       "      <td>False</td>\n",
       "      <td>False</td>\n",
       "      <td>False</td>\n",
       "      <td>False</td>\n",
       "      <td>False</td>\n",
       "    </tr>\n",
       "    <tr>\n",
       "      <th>3</th>\n",
       "      <td>False</td>\n",
       "      <td>False</td>\n",
       "      <td>False</td>\n",
       "      <td>False</td>\n",
       "      <td>False</td>\n",
       "      <td>False</td>\n",
       "      <td>False</td>\n",
       "      <td>False</td>\n",
       "      <td>False</td>\n",
       "      <td>False</td>\n",
       "      <td>False</td>\n",
       "      <td>False</td>\n",
       "      <td>False</td>\n",
       "      <td>False</td>\n",
       "    </tr>\n",
       "    <tr>\n",
       "      <th>4</th>\n",
       "      <td>False</td>\n",
       "      <td>False</td>\n",
       "      <td>False</td>\n",
       "      <td>False</td>\n",
       "      <td>False</td>\n",
       "      <td>False</td>\n",
       "      <td>False</td>\n",
       "      <td>False</td>\n",
       "      <td>False</td>\n",
       "      <td>False</td>\n",
       "      <td>False</td>\n",
       "      <td>False</td>\n",
       "      <td>False</td>\n",
       "      <td>False</td>\n",
       "    </tr>\n",
       "  </tbody>\n",
       "</table>\n",
       "</div>"
      ],
      "text/plain": [
       "   PassengerId  HomePlanet  CryoSleep  Cabin  Destination    Age    VIP  \\\n",
       "0        False       False      False  False        False  False  False   \n",
       "1        False       False      False  False        False  False  False   \n",
       "2        False       False      False  False        False  False  False   \n",
       "3        False       False      False  False        False  False  False   \n",
       "4        False       False      False  False        False  False  False   \n",
       "\n",
       "   RoomService  FoodCourt  ShoppingMall    Spa  VRDeck   Name  Transported  \n",
       "0        False      False         False  False   False  False        False  \n",
       "1        False      False         False  False   False  False        False  \n",
       "2        False      False         False  False   False  False        False  \n",
       "3        False      False         False  False   False  False        False  \n",
       "4        False      False         False  False   False  False        False  "
      ]
     },
     "execution_count": 5,
     "metadata": {},
     "output_type": "execute_result"
    }
   ],
   "source": [
    "missing_data = train_df.isnull()\n",
    "missing_data.head(5)"
   ]
  },
  {
   "cell_type": "code",
   "execution_count": 6,
   "metadata": {
    "execution": {
     "iopub.execute_input": "2022-07-17T23:09:40.150256Z",
     "iopub.status.busy": "2022-07-17T23:09:40.149771Z",
     "iopub.status.idle": "2022-07-17T23:09:40.175819Z",
     "shell.execute_reply": "2022-07-17T23:09:40.174551Z",
     "shell.execute_reply.started": "2022-07-17T23:09:40.150212Z"
    }
   },
   "outputs": [
    {
     "name": "stdout",
     "output_type": "stream",
     "text": [
      "PassengerId\n",
      "False    8693\n",
      "Name: PassengerId, dtype: int64\n",
      "\n",
      "HomePlanet\n",
      "False    8492\n",
      "True      201\n",
      "Name: HomePlanet, dtype: int64\n",
      "\n",
      "CryoSleep\n",
      "False    8476\n",
      "True      217\n",
      "Name: CryoSleep, dtype: int64\n",
      "\n",
      "Cabin\n",
      "False    8494\n",
      "True      199\n",
      "Name: Cabin, dtype: int64\n",
      "\n",
      "Destination\n",
      "False    8511\n",
      "True      182\n",
      "Name: Destination, dtype: int64\n",
      "\n",
      "Age\n",
      "False    8514\n",
      "True      179\n",
      "Name: Age, dtype: int64\n",
      "\n",
      "VIP\n",
      "False    8490\n",
      "True      203\n",
      "Name: VIP, dtype: int64\n",
      "\n",
      "RoomService\n",
      "False    8512\n",
      "True      181\n",
      "Name: RoomService, dtype: int64\n",
      "\n",
      "FoodCourt\n",
      "False    8510\n",
      "True      183\n",
      "Name: FoodCourt, dtype: int64\n",
      "\n",
      "ShoppingMall\n",
      "False    8485\n",
      "True      208\n",
      "Name: ShoppingMall, dtype: int64\n",
      "\n",
      "Spa\n",
      "False    8510\n",
      "True      183\n",
      "Name: Spa, dtype: int64\n",
      "\n",
      "VRDeck\n",
      "False    8505\n",
      "True      188\n",
      "Name: VRDeck, dtype: int64\n",
      "\n",
      "Name\n",
      "False    8493\n",
      "True      200\n",
      "Name: Name, dtype: int64\n",
      "\n",
      "Transported\n",
      "False    8693\n",
      "Name: Transported, dtype: int64\n",
      "\n"
     ]
    }
   ],
   "source": [
    "for column in missing_data.columns.values.tolist():\n",
    "    print(column)\n",
    "    print (missing_data[column].value_counts())\n",
    "    print(\"\")   "
   ]
  },
  {
   "cell_type": "code",
   "execution_count": 7,
   "metadata": {
    "execution": {
     "iopub.execute_input": "2022-07-17T23:09:40.179003Z",
     "iopub.status.busy": "2022-07-17T23:09:40.178155Z",
     "iopub.status.idle": "2022-07-17T23:09:40.205632Z",
     "shell.execute_reply": "2022-07-17T23:09:40.204633Z",
     "shell.execute_reply.started": "2022-07-17T23:09:40.178954Z"
    }
   },
   "outputs": [],
   "source": [
    "# Replace the missing values with the maximum frequent value in categorical variables\n",
    "\n",
    "max_hom_p = train_df['HomePlanet'].value_counts().idxmax()\n",
    "max_cry = train_df['CryoSleep'].value_counts().idxmax()\n",
    "max_cab = train_df['Cabin'].value_counts().idxmax()\n",
    "max_dest = train_df['Destination'].value_counts().idxmax()\n",
    "max_vip = train_df['VIP'].value_counts().idxmax()\n",
    "train_df[\"HomePlanet\"].replace(np.nan, max_hom_p , inplace=True)\n",
    "train_df[\"CryoSleep\"].replace(np.nan, max_cry, inplace=True)\n",
    "train_df[\"Cabin\"].replace(np.nan, max_cab , inplace=True)\n",
    "train_df[\"Destination\"].replace(np.nan, max_dest , inplace=True)\n",
    "train_df[\"VIP\"].replace(np.nan, max_vip , inplace=True)\n"
   ]
  },
  {
   "cell_type": "code",
   "execution_count": 8,
   "metadata": {
    "execution": {
     "iopub.execute_input": "2022-07-17T23:09:40.212495Z",
     "iopub.status.busy": "2022-07-17T23:09:40.211324Z",
     "iopub.status.idle": "2022-07-17T23:09:40.223111Z",
     "shell.execute_reply": "2022-07-17T23:09:40.222353Z",
     "shell.execute_reply.started": "2022-07-17T23:09:40.212439Z"
    }
   },
   "outputs": [],
   "source": [
    "# Replace the missing values with the mean value in continious variables\n",
    "\n",
    "train_df['Age'].replace(np.nan, train_df['Age'].mean(), inplace=True)\n",
    "train_df['RoomService'].replace(np.nan, train_df['RoomService'].mean(), inplace=True)\n",
    "train_df['FoodCourt'].replace(np.nan, train_df['FoodCourt'].mean(), inplace=True)\n",
    "train_df['ShoppingMall'].replace(np.nan, train_df['ShoppingMall'].mean(), inplace=True)\n",
    "train_df['Spa'].replace(np.nan, train_df['Spa'].mean(), inplace=True)\n",
    "train_df['VRDeck'].replace(np.nan, train_df['VRDeck'].mean(), inplace=True)\n"
   ]
  },
  {
   "cell_type": "code",
   "execution_count": 9,
   "metadata": {
    "execution": {
     "iopub.execute_input": "2022-07-17T23:09:40.225737Z",
     "iopub.status.busy": "2022-07-17T23:09:40.224644Z",
     "iopub.status.idle": "2022-07-17T23:09:40.238523Z",
     "shell.execute_reply": "2022-07-17T23:09:40.237575Z",
     "shell.execute_reply.started": "2022-07-17T23:09:40.225692Z"
    }
   },
   "outputs": [
    {
     "data": {
      "text/plain": [
       "PassengerId      object\n",
       "HomePlanet       object\n",
       "CryoSleep          bool\n",
       "Cabin            object\n",
       "Destination      object\n",
       "Age             float64\n",
       "VIP                bool\n",
       "RoomService     float64\n",
       "FoodCourt       float64\n",
       "ShoppingMall    float64\n",
       "Spa             float64\n",
       "VRDeck          float64\n",
       "Name             object\n",
       "Transported        bool\n",
       "dtype: object"
      ]
     },
     "execution_count": 9,
     "metadata": {},
     "output_type": "execute_result"
    }
   ],
   "source": [
    "# Check if correct data format are used\n",
    "train_df.dtypes"
   ]
  },
  {
   "cell_type": "code",
   "execution_count": 10,
   "metadata": {
    "execution": {
     "iopub.execute_input": "2022-07-17T23:09:40.259527Z",
     "iopub.status.busy": "2022-07-17T23:09:40.258206Z",
     "iopub.status.idle": "2022-07-17T23:09:40.913332Z",
     "shell.execute_reply": "2022-07-17T23:09:40.912139Z",
     "shell.execute_reply.started": "2022-07-17T23:09:40.259476Z"
    }
   },
   "outputs": [
    {
     "data": {
      "text/html": [
       "<div>\n",
       "<style scoped>\n",
       "    .dataframe tbody tr th:only-of-type {\n",
       "        vertical-align: middle;\n",
       "    }\n",
       "\n",
       "    .dataframe tbody tr th {\n",
       "        vertical-align: top;\n",
       "    }\n",
       "\n",
       "    .dataframe thead th {\n",
       "        text-align: right;\n",
       "    }\n",
       "</style>\n",
       "<table border=\"1\" class=\"dataframe\">\n",
       "  <thead>\n",
       "    <tr style=\"text-align: right;\">\n",
       "      <th></th>\n",
       "      <th>PassengerId</th>\n",
       "      <th>HomePlanet</th>\n",
       "      <th>CryoSleep</th>\n",
       "      <th>Cabin</th>\n",
       "      <th>Destination</th>\n",
       "      <th>Age</th>\n",
       "      <th>VIP</th>\n",
       "      <th>RoomService</th>\n",
       "      <th>FoodCourt</th>\n",
       "      <th>ShoppingMall</th>\n",
       "      <th>Spa</th>\n",
       "      <th>VRDeck</th>\n",
       "      <th>Name</th>\n",
       "      <th>Transported</th>\n",
       "    </tr>\n",
       "  </thead>\n",
       "  <tbody>\n",
       "    <tr>\n",
       "      <th>0</th>\n",
       "      <td>0001_01</td>\n",
       "      <td>Europa</td>\n",
       "      <td>False</td>\n",
       "      <td>B/0/P</td>\n",
       "      <td>TRAPPIST-1e</td>\n",
       "      <td>0.493671</td>\n",
       "      <td>False</td>\n",
       "      <td>0.000000</td>\n",
       "      <td>0.000000</td>\n",
       "      <td>0.000000</td>\n",
       "      <td>0.000000</td>\n",
       "      <td>0.000000</td>\n",
       "      <td>Maham Ofracculy</td>\n",
       "      <td>False</td>\n",
       "    </tr>\n",
       "    <tr>\n",
       "      <th>1</th>\n",
       "      <td>0002_01</td>\n",
       "      <td>Earth</td>\n",
       "      <td>False</td>\n",
       "      <td>F/0/S</td>\n",
       "      <td>TRAPPIST-1e</td>\n",
       "      <td>0.303797</td>\n",
       "      <td>False</td>\n",
       "      <td>0.007608</td>\n",
       "      <td>0.000302</td>\n",
       "      <td>0.001064</td>\n",
       "      <td>0.024500</td>\n",
       "      <td>0.001823</td>\n",
       "      <td>Juanna Vines</td>\n",
       "      <td>True</td>\n",
       "    </tr>\n",
       "    <tr>\n",
       "      <th>2</th>\n",
       "      <td>0003_01</td>\n",
       "      <td>Europa</td>\n",
       "      <td>False</td>\n",
       "      <td>A/0/S</td>\n",
       "      <td>TRAPPIST-1e</td>\n",
       "      <td>0.734177</td>\n",
       "      <td>True</td>\n",
       "      <td>0.003001</td>\n",
       "      <td>0.119948</td>\n",
       "      <td>0.000000</td>\n",
       "      <td>0.299670</td>\n",
       "      <td>0.002030</td>\n",
       "      <td>Altark Susent</td>\n",
       "      <td>False</td>\n",
       "    </tr>\n",
       "    <tr>\n",
       "      <th>3</th>\n",
       "      <td>0003_02</td>\n",
       "      <td>Europa</td>\n",
       "      <td>False</td>\n",
       "      <td>A/0/S</td>\n",
       "      <td>TRAPPIST-1e</td>\n",
       "      <td>0.417722</td>\n",
       "      <td>False</td>\n",
       "      <td>0.000000</td>\n",
       "      <td>0.043035</td>\n",
       "      <td>0.015793</td>\n",
       "      <td>0.148563</td>\n",
       "      <td>0.007997</td>\n",
       "      <td>Solam Susent</td>\n",
       "      <td>False</td>\n",
       "    </tr>\n",
       "    <tr>\n",
       "      <th>4</th>\n",
       "      <td>0004_01</td>\n",
       "      <td>Earth</td>\n",
       "      <td>False</td>\n",
       "      <td>F/1/S</td>\n",
       "      <td>TRAPPIST-1e</td>\n",
       "      <td>0.202532</td>\n",
       "      <td>False</td>\n",
       "      <td>0.021149</td>\n",
       "      <td>0.002348</td>\n",
       "      <td>0.006428</td>\n",
       "      <td>0.025214</td>\n",
       "      <td>0.000083</td>\n",
       "      <td>Willy Santantines</td>\n",
       "      <td>True</td>\n",
       "    </tr>\n",
       "  </tbody>\n",
       "</table>\n",
       "</div>"
      ],
      "text/plain": [
       "  PassengerId HomePlanet  CryoSleep  Cabin  Destination       Age    VIP  \\\n",
       "0     0001_01     Europa      False  B/0/P  TRAPPIST-1e  0.493671  False   \n",
       "1     0002_01      Earth      False  F/0/S  TRAPPIST-1e  0.303797  False   \n",
       "2     0003_01     Europa      False  A/0/S  TRAPPIST-1e  0.734177   True   \n",
       "3     0003_02     Europa      False  A/0/S  TRAPPIST-1e  0.417722  False   \n",
       "4     0004_01      Earth      False  F/1/S  TRAPPIST-1e  0.202532  False   \n",
       "\n",
       "   RoomService  FoodCourt  ShoppingMall       Spa    VRDeck  \\\n",
       "0     0.000000   0.000000      0.000000  0.000000  0.000000   \n",
       "1     0.007608   0.000302      0.001064  0.024500  0.001823   \n",
       "2     0.003001   0.119948      0.000000  0.299670  0.002030   \n",
       "3     0.000000   0.043035      0.015793  0.148563  0.007997   \n",
       "4     0.021149   0.002348      0.006428  0.025214  0.000083   \n",
       "\n",
       "                Name  Transported  \n",
       "0    Maham Ofracculy        False  \n",
       "1       Juanna Vines         True  \n",
       "2      Altark Susent        False  \n",
       "3       Solam Susent        False  \n",
       "4  Willy Santantines         True  "
      ]
     },
     "execution_count": 10,
     "metadata": {},
     "output_type": "execute_result"
    }
   ],
   "source": [
    "from sklearn.preprocessing import MinMaxScaler\n",
    "\n",
    "# Normalize the numerical variables \n",
    "# Initialize a scaler, then apply it to the features\n",
    "scaler = MinMaxScaler() # default=(0, 1)\n",
    "numerical = ['Age', 'RoomService', 'FoodCourt', 'ShoppingMall', 'Spa', 'VRDeck']\n",
    "\n",
    "train_df[numerical] = scaler.fit_transform(train_df[numerical])\n",
    "\n",
    "# Show an example of a record with scaling applied\n",
    "train_df.head()"
   ]
  },
  {
   "cell_type": "code",
   "execution_count": 11,
   "metadata": {
    "execution": {
     "iopub.execute_input": "2022-07-17T23:09:40.915622Z",
     "iopub.status.busy": "2022-07-17T23:09:40.915205Z",
     "iopub.status.idle": "2022-07-17T23:09:40.962858Z",
     "shell.execute_reply": "2022-07-17T23:09:40.961848Z",
     "shell.execute_reply.started": "2022-07-17T23:09:40.915585Z"
    }
   },
   "outputs": [
    {
     "data": {
      "text/html": [
       "<div>\n",
       "<style scoped>\n",
       "    .dataframe tbody tr th:only-of-type {\n",
       "        vertical-align: middle;\n",
       "    }\n",
       "\n",
       "    .dataframe tbody tr th {\n",
       "        vertical-align: top;\n",
       "    }\n",
       "\n",
       "    .dataframe thead th {\n",
       "        text-align: right;\n",
       "    }\n",
       "</style>\n",
       "<table border=\"1\" class=\"dataframe\">\n",
       "  <thead>\n",
       "    <tr style=\"text-align: right;\">\n",
       "      <th></th>\n",
       "      <th>PassengerId</th>\n",
       "      <th>HomePlanet</th>\n",
       "      <th>CryoSleep</th>\n",
       "      <th>Cabin</th>\n",
       "      <th>Destination</th>\n",
       "      <th>Age</th>\n",
       "      <th>VIP</th>\n",
       "      <th>RoomService</th>\n",
       "      <th>FoodCourt</th>\n",
       "      <th>ShoppingMall</th>\n",
       "      <th>Spa</th>\n",
       "      <th>VRDeck</th>\n",
       "      <th>Name</th>\n",
       "      <th>Transported</th>\n",
       "    </tr>\n",
       "  </thead>\n",
       "  <tbody>\n",
       "    <tr>\n",
       "      <th>0</th>\n",
       "      <td>0001_01</td>\n",
       "      <td>1</td>\n",
       "      <td>0</td>\n",
       "      <td>149</td>\n",
       "      <td>2</td>\n",
       "      <td>0.493671</td>\n",
       "      <td>0</td>\n",
       "      <td>0.000000</td>\n",
       "      <td>0.000000</td>\n",
       "      <td>0.000000</td>\n",
       "      <td>0.000000</td>\n",
       "      <td>0.000000</td>\n",
       "      <td>Maham Ofracculy</td>\n",
       "      <td>0</td>\n",
       "    </tr>\n",
       "    <tr>\n",
       "      <th>1</th>\n",
       "      <td>0002_01</td>\n",
       "      <td>0</td>\n",
       "      <td>0</td>\n",
       "      <td>2184</td>\n",
       "      <td>2</td>\n",
       "      <td>0.303797</td>\n",
       "      <td>0</td>\n",
       "      <td>0.007608</td>\n",
       "      <td>0.000302</td>\n",
       "      <td>0.001064</td>\n",
       "      <td>0.024500</td>\n",
       "      <td>0.001823</td>\n",
       "      <td>Juanna Vines</td>\n",
       "      <td>1</td>\n",
       "    </tr>\n",
       "    <tr>\n",
       "      <th>2</th>\n",
       "      <td>0003_01</td>\n",
       "      <td>1</td>\n",
       "      <td>0</td>\n",
       "      <td>1</td>\n",
       "      <td>2</td>\n",
       "      <td>0.734177</td>\n",
       "      <td>1</td>\n",
       "      <td>0.003001</td>\n",
       "      <td>0.119948</td>\n",
       "      <td>0.000000</td>\n",
       "      <td>0.299670</td>\n",
       "      <td>0.002030</td>\n",
       "      <td>Altark Susent</td>\n",
       "      <td>0</td>\n",
       "    </tr>\n",
       "    <tr>\n",
       "      <th>3</th>\n",
       "      <td>0003_02</td>\n",
       "      <td>1</td>\n",
       "      <td>0</td>\n",
       "      <td>1</td>\n",
       "      <td>2</td>\n",
       "      <td>0.417722</td>\n",
       "      <td>0</td>\n",
       "      <td>0.000000</td>\n",
       "      <td>0.043035</td>\n",
       "      <td>0.015793</td>\n",
       "      <td>0.148563</td>\n",
       "      <td>0.007997</td>\n",
       "      <td>Solam Susent</td>\n",
       "      <td>0</td>\n",
       "    </tr>\n",
       "    <tr>\n",
       "      <th>4</th>\n",
       "      <td>0004_01</td>\n",
       "      <td>0</td>\n",
       "      <td>0</td>\n",
       "      <td>2186</td>\n",
       "      <td>2</td>\n",
       "      <td>0.202532</td>\n",
       "      <td>0</td>\n",
       "      <td>0.021149</td>\n",
       "      <td>0.002348</td>\n",
       "      <td>0.006428</td>\n",
       "      <td>0.025214</td>\n",
       "      <td>0.000083</td>\n",
       "      <td>Willy Santantines</td>\n",
       "      <td>1</td>\n",
       "    </tr>\n",
       "  </tbody>\n",
       "</table>\n",
       "</div>"
      ],
      "text/plain": [
       "  PassengerId  HomePlanet  CryoSleep  Cabin  Destination       Age  VIP  \\\n",
       "0     0001_01           1          0    149            2  0.493671    0   \n",
       "1     0002_01           0          0   2184            2  0.303797    0   \n",
       "2     0003_01           1          0      1            2  0.734177    1   \n",
       "3     0003_02           1          0      1            2  0.417722    0   \n",
       "4     0004_01           0          0   2186            2  0.202532    0   \n",
       "\n",
       "   RoomService  FoodCourt  ShoppingMall       Spa    VRDeck  \\\n",
       "0     0.000000   0.000000      0.000000  0.000000  0.000000   \n",
       "1     0.007608   0.000302      0.001064  0.024500  0.001823   \n",
       "2     0.003001   0.119948      0.000000  0.299670  0.002030   \n",
       "3     0.000000   0.043035      0.015793  0.148563  0.007997   \n",
       "4     0.021149   0.002348      0.006428  0.025214  0.000083   \n",
       "\n",
       "                Name  Transported  \n",
       "0    Maham Ofracculy            0  \n",
       "1       Juanna Vines            1  \n",
       "2      Altark Susent            0  \n",
       "3       Solam Susent            0  \n",
       "4  Willy Santantines            1  "
      ]
     },
     "execution_count": 11,
     "metadata": {},
     "output_type": "execute_result"
    }
   ],
   "source": [
    "from sklearn import preprocessing\n",
    "\n",
    "# Hot Encoding for the categorical variables\n",
    "le = preprocessing.LabelEncoder()\n",
    "categorical = ['HomePlanet', 'CryoSleep', 'Cabin', 'Destination', 'VIP']\n",
    "train_df_transform = train_df\n",
    "train_df_transform['HomePlanet'] = le.fit_transform(train_df_transform['HomePlanet'])\n",
    "train_df_transform['Destination'] = le.fit_transform(train_df_transform['Destination'])\n",
    "train_df_transform['VIP'] = le.fit_transform(train_df_transform['VIP'])\n",
    "train_df_transform['CryoSleep'] = le.fit_transform(train_df_transform['CryoSleep'])\n",
    "train_df_transform['Cabin'] = le.fit_transform(train_df_transform['Cabin'])\n",
    "train_df_transform['Transported'] = le.fit_transform(train_df_transform['Transported'])\n",
    "\n",
    "\n",
    "train_df_transform.head()"
   ]
  },
  {
   "cell_type": "markdown",
   "metadata": {},
   "source": [
    "**Exploration of the variable distributions and some EDA between all variables and transported variable**"
   ]
  },
  {
   "cell_type": "code",
   "execution_count": 12,
   "metadata": {
    "execution": {
     "iopub.execute_input": "2022-07-17T23:09:40.964751Z",
     "iopub.status.busy": "2022-07-17T23:09:40.964325Z",
     "iopub.status.idle": "2022-07-17T23:09:42.100640Z",
     "shell.execute_reply": "2022-07-17T23:09:42.099393Z",
     "shell.execute_reply.started": "2022-07-17T23:09:40.964719Z"
    }
   },
   "outputs": [
    {
     "data": {
      "image/png": "[encoded data removed]",
      "text/plain": [
       "<Figure size 432x288 with 12 Axes>"
      ]
     },
     "metadata": {
      "needs_background": "light"
     },
     "output_type": "display_data"
    }
   ],
   "source": [
    "import matplotlib.pyplot as plt\n",
    "%matplotlib inline\n",
    "train_df_transform.hist()\n",
    "plt.show()\n"
   ]
  },
  {
   "cell_type": "code",
   "execution_count": 19,
   "metadata": {
    "execution": {
     "iopub.execute_input": "2022-07-17T23:09:43.486197Z",
     "iopub.status.busy": "2022-07-17T23:09:43.485390Z",
     "iopub.status.idle": "2022-07-17T23:09:43.665223Z",
     "shell.execute_reply": "2022-07-17T23:09:43.664155Z",
     "shell.execute_reply.started": "2022-07-17T23:09:43.486117Z"
    }
   },
   "outputs": [
    {
     "data": {
      "text/plain": [
       "<AxesSubplot:xlabel='HomePlanet', ylabel='Transported'>"
      ]
     },
     "execution_count": 19,
     "metadata": {},
     "output_type": "execute_result"
    },
    {
     "data": {
      "image/png": "[encoded data removed]",
      "text/plain": [
       "<Figure size 432x288 with 1 Axes>"
      ]
     },
     "metadata": {
      "needs_background": "light"
     },
     "output_type": "display_data"
    }
   ],
   "source": [
    "sns.barplot(x='HomePlanet', y='Transported', data=train_df_transform, ci=None)\n"
   ]
  },
  {
   "cell_type": "code",
   "execution_count": 20,
   "metadata": {
    "execution": {
     "iopub.execute_input": "2022-07-17T23:09:43.667351Z",
     "iopub.status.busy": "2022-07-17T23:09:43.666516Z",
     "iopub.status.idle": "2022-07-17T23:09:43.837977Z",
     "shell.execute_reply": "2022-07-17T23:09:43.837238Z",
     "shell.execute_reply.started": "2022-07-17T23:09:43.667299Z"
    }
   },
   "outputs": [
    {
     "data": {
      "text/plain": [
       "<AxesSubplot:xlabel='Destination', ylabel='Transported'>"
      ]
     },
     "execution_count": 20,
     "metadata": {},
     "output_type": "execute_result"
    },
    {
     "data": {
      "image/png": "[encoded data removed]",
      "text/plain": [
       "<Figure size 432x288 with 1 Axes>"
      ]
     },
     "metadata": {
      "needs_background": "light"
     },
     "output_type": "display_data"
    }
   ],
   "source": [
    "sns.barplot(x='Destination', y='Transported', data=train_df_transform, ci=None)\n"
   ]
  },
  {
   "cell_type": "code",
   "execution_count": 21,
   "metadata": {
    "execution": {
     "iopub.execute_input": "2022-07-17T23:09:43.839823Z",
     "iopub.status.busy": "2022-07-17T23:09:43.839493Z",
     "iopub.status.idle": "2022-07-17T23:09:44.022695Z",
     "shell.execute_reply": "2022-07-17T23:09:44.021208Z",
     "shell.execute_reply.started": "2022-07-17T23:09:43.839791Z"
    }
   },
   "outputs": [
    {
     "data": {
      "text/plain": [
       "<AxesSubplot:xlabel='CryoSleep', ylabel='Transported'>"
      ]
     },
     "execution_count": 21,
     "metadata": {},
     "output_type": "execute_result"
    },
    {
     "data": {
      "image/png": "[encoded data removed]",
      "text/plain": [
       "<Figure size 432x288 with 1 Axes>"
      ]
     },
     "metadata": {
      "needs_background": "light"
     },
     "output_type": "display_data"
    }
   ],
   "source": [
    "sns.barplot(x='CryoSleep', y='Transported', data=train_df_transform, ci=None)\n"
   ]
  },
  {
   "cell_type": "code",
   "execution_count": 22,
   "metadata": {
    "execution": {
     "iopub.execute_input": "2022-07-17T23:09:44.024929Z",
     "iopub.status.busy": "2022-07-17T23:09:44.024518Z",
     "iopub.status.idle": "2022-07-17T23:09:44.149210Z",
     "shell.execute_reply": "2022-07-17T23:09:44.147551Z",
     "shell.execute_reply.started": "2022-07-17T23:09:44.024879Z"
    }
   },
   "outputs": [
    {
     "data": {
      "text/plain": [
       "<AxesSubplot:xlabel='VIP', ylabel='Transported'>"
      ]
     },
     "execution_count": 22,
     "metadata": {},
     "output_type": "execute_result"
    },
    {
     "data": {
      "image/png": "[encoded data removed]",
      "text/plain": [
       "<Figure size 432x288 with 1 Axes>"
      ]
     },
     "metadata": {
      "needs_background": "light"
     },
     "output_type": "display_data"
    }
   ],
   "source": [
    "sns.barplot(x='VIP', y='Transported', data=train_df_transform, ci=None)\n"
   ]
  },
  {
   "cell_type": "code",
   "execution_count": 23,
   "metadata": {
    "execution": {
     "iopub.execute_input": "2022-07-17T23:09:44.152085Z",
     "iopub.status.busy": "2022-07-17T23:09:44.151489Z",
     "iopub.status.idle": "2022-07-17T23:09:44.232821Z",
     "shell.execute_reply": "2022-07-17T23:09:44.231399Z",
     "shell.execute_reply.started": "2022-07-17T23:09:44.152023Z"
    }
   },
   "outputs": [
    {
     "name": "stdout",
     "output_type": "stream",
     "text": [
      "p-value for HomePlanet:            5.5496e-70\n",
      "p-value for Destination:            1.1948e-23\n",
      "p-value for CryoSleep:            0\n",
      "p-value for VIP:            0.0006681\n",
      "chi2 statistic_cryo:     1838.6\n",
      "degrees of freedom_cryo: 1\n",
      "expected frequencies cryo:\n",
      " [[2807.50488899 2848.49511101]\n",
      " [1507.49511101 1529.50488899]]\n"
     ]
    }
   ],
   "source": [
    "import scipy\n",
    "\n",
    "# Analysis the relationship between the categorical variables and the transported variables using Chi sqaure test\n",
    "ct_table_home=pd.crosstab(train_df_transform[\"HomePlanet\"],train_df_transform[\"Transported\"])\n",
    "chi2_stat_h, p_h, dof_h, expected_h = scipy.stats.chi2_contingency(ct_table_home)\n",
    "ct_table_dest=pd.crosstab(train_df_transform[\"Destination\"],train_df_transform[\"Transported\"])\n",
    "chi2_stat_d, p_d, dof_d, expected_d = scipy.stats.chi2_contingency(ct_table_dest)\n",
    "ct_table_cryo=pd.crosstab(train_df_transform[\"CryoSleep\"],train_df_transform[\"Transported\"])\n",
    "chi2_stat_c, p_c, dof_c, expected_c = scipy.stats.chi2_contingency(ct_table_cryo)\n",
    "ct_table_vip=pd.crosstab(train_df_transform[\"VIP\"],train_df_transform[\"Transported\"])\n",
    "chi2_stat_v, p_v, dof_v, expected_v = scipy.stats.chi2_contingency(ct_table_vip)\n",
    "print(f\"p-value for HomePlanet:            {p_h:.5g}\")\n",
    "print(f\"p-value for Destination:            {p_d:.5g}\")\n",
    "print(f\"p-value for CryoSleep:            {p_c:.5g}\")\n",
    "print(f\"p-value for VIP:            {p_v:.5g}\")\n",
    "print(f\"chi2 statistic_cryo:     {chi2_stat_c:.5g}\")\n",
    "print(f\"degrees of freedom_cryo: {dof_c}\")\n",
    "print(\"expected frequencies cryo:\\n\",expected_c)\n",
    "\n"
   ]
  },
  {
   "cell_type": "code",
   "execution_count": 24,
   "metadata": {
    "execution": {
     "iopub.execute_input": "2022-07-17T23:09:44.237217Z",
     "iopub.status.busy": "2022-07-17T23:09:44.235043Z",
     "iopub.status.idle": "2022-07-17T23:09:44.253326Z",
     "shell.execute_reply": "2022-07-17T23:09:44.252317Z",
     "shell.execute_reply.started": "2022-07-17T23:09:44.237159Z"
    }
   },
   "outputs": [
    {
     "name": "stdout",
     "output_type": "stream",
     "text": [
      "n_age_p           ShapiroResult(statistic=0.9806526899337769, pvalue=9.781874770999727e-33)\n",
      "n_spa_p:            ShapiroResult(statistic=0.2918644845485687, pvalue=0.0)\n",
      "n_vrdeck_p:            ShapiroResult(statistic=0.28196820616722107, pvalue=0.0)\n",
      "n_fcourt_p:            ShapiroResult(statistic=0.3096773624420166, pvalue=0.0)\n",
      "n_rserv_p:            ShapiroResult(statistic=0.37844032049179077, pvalue=0.0)\n",
      "n_shmall_p:            ShapiroResult(statistic=0.2970142066478729, pvalue=0.0)\n"
     ]
    },
    {
     "name": "stderr",
     "output_type": "stream",
     "text": [
      "c:\\users\\abdo\\appdata\\local\\programs\\python\\python39-32\\lib\\site-packages\\scipy\\stats\\morestats.py:1760: UserWarning: p-value may not be accurate for N > 5000.\n",
      "  warnings.warn(\"p-value may not be accurate for N > 5000.\")\n"
     ]
    }
   ],
   "source": [
    "from scipy.stats import shapiro\n",
    "\n",
    "# Check the normality of the numerical variables to choose the correct test for anlysis\n",
    "n_age = shapiro(train_df_transform[\"Age\"])\n",
    "n_spa = shapiro(train_df_transform[\"Spa\"])\n",
    "n_vrdeck = shapiro(train_df_transform[\"VRDeck\"])\n",
    "n_fcourt = shapiro(train_df_transform[\"FoodCourt\"])\n",
    "n_rserv = shapiro(train_df_transform[\"RoomService\"])\n",
    "n_shmall = shapiro(train_df_transform[\"ShoppingMall\"])\n",
    "print(f\"n_age_p           {n_age}\")\n",
    "print(f\"n_spa_p:            {n_spa}\")\n",
    "print(f\"n_vrdeck_p:            {n_vrdeck}\")\n",
    "print(f\"n_fcourt_p:            {n_fcourt}\")\n",
    "print(f\"n_rserv_p:            {n_rserv}\")\n",
    "print(f\"n_shmall_p:            {n_shmall}\")\n"
   ]
  },
  {
   "cell_type": "code",
   "execution_count": 25,
   "metadata": {
    "execution": {
     "iopub.execute_input": "2022-07-17T23:09:44.255748Z",
     "iopub.status.busy": "2022-07-17T23:09:44.254748Z",
     "iopub.status.idle": "2022-07-17T23:09:44.266861Z",
     "shell.execute_reply": "2022-07-17T23:09:44.265476Z",
     "shell.execute_reply.started": "2022-07-17T23:09:44.255664Z"
    }
   },
   "outputs": [],
   "source": [
    "train_df2= train_df_transform[['Age','Spa','VRDeck', 'FoodCourt', 'RoomService', 'ShoppingMall', 'Transported']]\n",
    "train_df0= train_df2[train_df2['Transported'] == 0]\n",
    "train_df1= train_df2[train_df2['Transported'] == 1]"
   ]
  },
  {
   "cell_type": "code",
   "execution_count": 26,
   "metadata": {
    "execution": {
     "iopub.execute_input": "2022-07-17T23:09:44.270218Z",
     "iopub.status.busy": "2022-07-17T23:09:44.268788Z",
     "iopub.status.idle": "2022-07-17T23:09:44.317194Z",
     "shell.execute_reply": "2022-07-17T23:09:44.316033Z",
     "shell.execute_reply.started": "2022-07-17T23:09:44.270160Z"
    }
   },
   "outputs": [
    {
     "name": "stdout",
     "output_type": "stream",
     "text": [
      "n_age_p           8.31095052240648e-11\n",
      "n_spa_p:            4.004132770031923e-194\n",
      "n_vrdeck_p:            5.652754167945328e-166\n",
      "n_fcourt_p:            5.2420604067940475e-46\n",
      "n_rserv_p:            7.149794999220239e-187\n",
      "n_shmall_p:            4.2862531624568704e-66\n"
     ]
    }
   ],
   "source": [
    "from scipy.stats import mannwhitneyu\n",
    "\n",
    "# Analysis the relationship between the numerical variables and the transported variables using Mann-Whitney U test\n",
    "# as all numerical variables were non normally distributed\n",
    "U_age, p_age = mannwhitneyu(train_df0['Age'], train_df1['Age'])\n",
    "U_spa, p_spa = mannwhitneyu(train_df0['Spa'], train_df1['Spa'])\n",
    "U_vrd, p_vrd = mannwhitneyu(train_df0['VRDeck'], train_df1['VRDeck'])\n",
    "U_fc, p_fc = mannwhitneyu(train_df0['FoodCourt'], train_df1['FoodCourt'])\n",
    "U_rs, p_rs = mannwhitneyu(train_df0['RoomService'], train_df1['RoomService'])\n",
    "U_sm, p_sm = mannwhitneyu(train_df0['ShoppingMall'], train_df1['ShoppingMall'])\n",
    "print(f\"n_age_p           {p_age}\")\n",
    "print(f\"n_spa_p:            {p_spa}\")\n",
    "print(f\"n_vrdeck_p:            {p_vrd}\")\n",
    "print(f\"n_fcourt_p:            {p_fc}\")\n",
    "print(f\"n_rserv_p:            {p_rs}\")\n",
    "print(f\"n_shmall_p:            {p_sm}\")"
   ]
  },
  {
   "cell_type": "code",
   "execution_count": 27,
   "metadata": {
    "execution": {
     "iopub.execute_input": "2022-07-17T23:09:44.319622Z",
     "iopub.status.busy": "2022-07-17T23:09:44.319153Z",
     "iopub.status.idle": "2022-07-17T23:09:44.333167Z",
     "shell.execute_reply": "2022-07-17T23:09:44.331567Z",
     "shell.execute_reply.started": "2022-07-17T23:09:44.319585Z"
    }
   },
   "outputs": [],
   "source": [
    "\n",
    "#Dropping name columns (Name, Cabin) from Dataframe\n",
    "train_f= train_df_transform.drop(['Name','Cabin'],axis=1)\n",
    "xtrain = train_f.loc[:, 'PassengerId':'VRDeck']\n",
    "ytrain = train_f.loc[:, 'Transported']"
   ]
  },
  {
   "cell_type": "code",
   "execution_count": 28,
   "metadata": {
    "execution": {
     "iopub.execute_input": "2022-07-17T23:09:44.335462Z",
     "iopub.status.busy": "2022-07-17T23:09:44.334939Z",
     "iopub.status.idle": "2022-07-17T23:09:44.392813Z",
     "shell.execute_reply": "2022-07-17T23:09:44.391415Z",
     "shell.execute_reply.started": "2022-07-17T23:09:44.335411Z"
    }
   },
   "outputs": [
    {
     "data": {
      "text/html": [
       "<div>\n",
       "<style scoped>\n",
       "    .dataframe tbody tr th:only-of-type {\n",
       "        vertical-align: middle;\n",
       "    }\n",
       "\n",
       "    .dataframe tbody tr th {\n",
       "        vertical-align: top;\n",
       "    }\n",
       "\n",
       "    .dataframe thead th {\n",
       "        text-align: right;\n",
       "    }\n",
       "</style>\n",
       "<table border=\"1\" class=\"dataframe\">\n",
       "  <thead>\n",
       "    <tr style=\"text-align: right;\">\n",
       "      <th></th>\n",
       "      <th>PassengerId</th>\n",
       "      <th>HomePlanet</th>\n",
       "      <th>CryoSleep</th>\n",
       "      <th>Cabin</th>\n",
       "      <th>Destination</th>\n",
       "      <th>Age</th>\n",
       "      <th>VIP</th>\n",
       "      <th>RoomService</th>\n",
       "      <th>FoodCourt</th>\n",
       "      <th>ShoppingMall</th>\n",
       "      <th>Spa</th>\n",
       "      <th>VRDeck</th>\n",
       "      <th>Name</th>\n",
       "    </tr>\n",
       "  </thead>\n",
       "  <tbody>\n",
       "    <tr>\n",
       "      <th>0</th>\n",
       "      <td>0013_01</td>\n",
       "      <td>Earth</td>\n",
       "      <td>True</td>\n",
       "      <td>G/3/S</td>\n",
       "      <td>TRAPPIST-1e</td>\n",
       "      <td>27.0</td>\n",
       "      <td>False</td>\n",
       "      <td>0.0</td>\n",
       "      <td>0.0</td>\n",
       "      <td>0.0</td>\n",
       "      <td>0.0</td>\n",
       "      <td>0.0</td>\n",
       "      <td>Nelly Carsoning</td>\n",
       "    </tr>\n",
       "    <tr>\n",
       "      <th>1</th>\n",
       "      <td>0018_01</td>\n",
       "      <td>Earth</td>\n",
       "      <td>False</td>\n",
       "      <td>F/4/S</td>\n",
       "      <td>TRAPPIST-1e</td>\n",
       "      <td>19.0</td>\n",
       "      <td>False</td>\n",
       "      <td>0.0</td>\n",
       "      <td>9.0</td>\n",
       "      <td>0.0</td>\n",
       "      <td>2823.0</td>\n",
       "      <td>0.0</td>\n",
       "      <td>Lerome Peckers</td>\n",
       "    </tr>\n",
       "    <tr>\n",
       "      <th>2</th>\n",
       "      <td>0019_01</td>\n",
       "      <td>Europa</td>\n",
       "      <td>True</td>\n",
       "      <td>C/0/S</td>\n",
       "      <td>55 Cancri e</td>\n",
       "      <td>31.0</td>\n",
       "      <td>False</td>\n",
       "      <td>0.0</td>\n",
       "      <td>0.0</td>\n",
       "      <td>0.0</td>\n",
       "      <td>0.0</td>\n",
       "      <td>0.0</td>\n",
       "      <td>Sabih Unhearfus</td>\n",
       "    </tr>\n",
       "    <tr>\n",
       "      <th>3</th>\n",
       "      <td>0021_01</td>\n",
       "      <td>Europa</td>\n",
       "      <td>False</td>\n",
       "      <td>C/1/S</td>\n",
       "      <td>TRAPPIST-1e</td>\n",
       "      <td>38.0</td>\n",
       "      <td>False</td>\n",
       "      <td>0.0</td>\n",
       "      <td>6652.0</td>\n",
       "      <td>0.0</td>\n",
       "      <td>181.0</td>\n",
       "      <td>585.0</td>\n",
       "      <td>Meratz Caltilter</td>\n",
       "    </tr>\n",
       "    <tr>\n",
       "      <th>4</th>\n",
       "      <td>0023_01</td>\n",
       "      <td>Earth</td>\n",
       "      <td>False</td>\n",
       "      <td>F/5/S</td>\n",
       "      <td>TRAPPIST-1e</td>\n",
       "      <td>20.0</td>\n",
       "      <td>False</td>\n",
       "      <td>10.0</td>\n",
       "      <td>0.0</td>\n",
       "      <td>635.0</td>\n",
       "      <td>0.0</td>\n",
       "      <td>0.0</td>\n",
       "      <td>Brence Harperez</td>\n",
       "    </tr>\n",
       "  </tbody>\n",
       "</table>\n",
       "</div>"
      ],
      "text/plain": [
       "  PassengerId HomePlanet CryoSleep  Cabin  Destination   Age    VIP  \\\n",
       "0     0013_01      Earth      True  G/3/S  TRAPPIST-1e  27.0  False   \n",
       "1     0018_01      Earth     False  F/4/S  TRAPPIST-1e  19.0  False   \n",
       "2     0019_01     Europa      True  C/0/S  55 Cancri e  31.0  False   \n",
       "3     0021_01     Europa     False  C/1/S  TRAPPIST-1e  38.0  False   \n",
       "4     0023_01      Earth     False  F/5/S  TRAPPIST-1e  20.0  False   \n",
       "\n",
       "   RoomService  FoodCourt  ShoppingMall     Spa  VRDeck              Name  \n",
       "0          0.0        0.0           0.0     0.0     0.0   Nelly Carsoning  \n",
       "1          0.0        9.0           0.0  2823.0     0.0    Lerome Peckers  \n",
       "2          0.0        0.0           0.0     0.0     0.0   Sabih Unhearfus  \n",
       "3          0.0     6652.0           0.0   181.0   585.0  Meratz Caltilter  \n",
       "4         10.0        0.0         635.0     0.0     0.0   Brence Harperez  "
      ]
     },
     "execution_count": 28,
     "metadata": {},
     "output_type": "execute_result"
    }
   ],
   "source": [
    "# Read the test data\n",
    "test_df = pd.read_csv('test.csv')\n",
    "test_df.head()"
   ]
  },
  {
   "cell_type": "code",
   "execution_count": 29,
   "metadata": {
    "execution": {
     "iopub.execute_input": "2022-07-17T23:09:44.395579Z",
     "iopub.status.busy": "2022-07-17T23:09:44.394552Z",
     "iopub.status.idle": "2022-07-17T23:09:44.416046Z",
     "shell.execute_reply": "2022-07-17T23:09:44.414708Z",
     "shell.execute_reply.started": "2022-07-17T23:09:44.395525Z"
    }
   },
   "outputs": [
    {
     "name": "stdout",
     "output_type": "stream",
     "text": [
      "PassengerId\n",
      "False    4277\n",
      "Name: PassengerId, dtype: int64\n",
      "\n",
      "HomePlanet\n",
      "False    4190\n",
      "True       87\n",
      "Name: HomePlanet, dtype: int64\n",
      "\n",
      "CryoSleep\n",
      "False    4184\n",
      "True       93\n",
      "Name: CryoSleep, dtype: int64\n",
      "\n",
      "Cabin\n",
      "False    4177\n",
      "True      100\n",
      "Name: Cabin, dtype: int64\n",
      "\n",
      "Destination\n",
      "False    4185\n",
      "True       92\n",
      "Name: Destination, dtype: int64\n",
      "\n",
      "Age\n",
      "False    4186\n",
      "True       91\n",
      "Name: Age, dtype: int64\n",
      "\n",
      "VIP\n",
      "False    4184\n",
      "True       93\n",
      "Name: VIP, dtype: int64\n",
      "\n",
      "RoomService\n",
      "False    4195\n",
      "True       82\n",
      "Name: RoomService, dtype: int64\n",
      "\n",
      "FoodCourt\n",
      "False    4171\n",
      "True      106\n",
      "Name: FoodCourt, dtype: int64\n",
      "\n",
      "ShoppingMall\n",
      "False    4179\n",
      "True       98\n",
      "Name: ShoppingMall, dtype: int64\n",
      "\n",
      "Spa\n",
      "False    4176\n",
      "True      101\n",
      "Name: Spa, dtype: int64\n",
      "\n",
      "VRDeck\n",
      "False    4197\n",
      "True       80\n",
      "Name: VRDeck, dtype: int64\n",
      "\n",
      "Name\n",
      "False    4183\n",
      "True       94\n",
      "Name: Name, dtype: int64\n",
      "\n"
     ]
    }
   ],
   "source": [
    "# Check if there are missing values in the test data \n",
    "missing_data2 = test_df.isnull()\n",
    "for column in missing_data2.columns.values.tolist():\n",
    "    print(column)\n",
    "    print (missing_data2[column].value_counts())\n",
    "    print(\"\") "
   ]
  },
  {
   "cell_type": "markdown",
   "metadata": {},
   "source": [
    "**Make the same preprocessing steps of train data on test data**"
   ]
  },
  {
   "cell_type": "code",
   "execution_count": 30,
   "metadata": {
    "execution": {
     "iopub.execute_input": "2022-07-17T23:09:44.418180Z",
     "iopub.status.busy": "2022-07-17T23:09:44.417520Z",
     "iopub.status.idle": "2022-07-17T23:09:44.472139Z",
     "shell.execute_reply": "2022-07-17T23:09:44.471378Z",
     "shell.execute_reply.started": "2022-07-17T23:09:44.418130Z"
    }
   },
   "outputs": [
    {
     "data": {
      "text/html": [
       "<div>\n",
       "<style scoped>\n",
       "    .dataframe tbody tr th:only-of-type {\n",
       "        vertical-align: middle;\n",
       "    }\n",
       "\n",
       "    .dataframe tbody tr th {\n",
       "        vertical-align: top;\n",
       "    }\n",
       "\n",
       "    .dataframe thead th {\n",
       "        text-align: right;\n",
       "    }\n",
       "</style>\n",
       "<table border=\"1\" class=\"dataframe\">\n",
       "  <thead>\n",
       "    <tr style=\"text-align: right;\">\n",
       "      <th></th>\n",
       "      <th>PassengerId</th>\n",
       "      <th>HomePlanet</th>\n",
       "      <th>CryoSleep</th>\n",
       "      <th>Cabin</th>\n",
       "      <th>Destination</th>\n",
       "      <th>Age</th>\n",
       "      <th>VIP</th>\n",
       "      <th>RoomService</th>\n",
       "      <th>FoodCourt</th>\n",
       "      <th>ShoppingMall</th>\n",
       "      <th>Spa</th>\n",
       "      <th>VRDeck</th>\n",
       "      <th>Name</th>\n",
       "    </tr>\n",
       "  </thead>\n",
       "  <tbody>\n",
       "    <tr>\n",
       "      <th>0</th>\n",
       "      <td>0013_01</td>\n",
       "      <td>Earth</td>\n",
       "      <td>True</td>\n",
       "      <td>G/3/S</td>\n",
       "      <td>TRAPPIST-1e</td>\n",
       "      <td>27.0</td>\n",
       "      <td>False</td>\n",
       "      <td>0.0</td>\n",
       "      <td>0.0</td>\n",
       "      <td>0.0</td>\n",
       "      <td>0.0</td>\n",
       "      <td>0.0</td>\n",
       "      <td>Nelly Carsoning</td>\n",
       "    </tr>\n",
       "    <tr>\n",
       "      <th>1</th>\n",
       "      <td>0018_01</td>\n",
       "      <td>Earth</td>\n",
       "      <td>False</td>\n",
       "      <td>F/4/S</td>\n",
       "      <td>TRAPPIST-1e</td>\n",
       "      <td>19.0</td>\n",
       "      <td>False</td>\n",
       "      <td>0.0</td>\n",
       "      <td>9.0</td>\n",
       "      <td>0.0</td>\n",
       "      <td>2823.0</td>\n",
       "      <td>0.0</td>\n",
       "      <td>Lerome Peckers</td>\n",
       "    </tr>\n",
       "    <tr>\n",
       "      <th>2</th>\n",
       "      <td>0019_01</td>\n",
       "      <td>Europa</td>\n",
       "      <td>True</td>\n",
       "      <td>C/0/S</td>\n",
       "      <td>55 Cancri e</td>\n",
       "      <td>31.0</td>\n",
       "      <td>False</td>\n",
       "      <td>0.0</td>\n",
       "      <td>0.0</td>\n",
       "      <td>0.0</td>\n",
       "      <td>0.0</td>\n",
       "      <td>0.0</td>\n",
       "      <td>Sabih Unhearfus</td>\n",
       "    </tr>\n",
       "    <tr>\n",
       "      <th>3</th>\n",
       "      <td>0021_01</td>\n",
       "      <td>Europa</td>\n",
       "      <td>False</td>\n",
       "      <td>C/1/S</td>\n",
       "      <td>TRAPPIST-1e</td>\n",
       "      <td>38.0</td>\n",
       "      <td>False</td>\n",
       "      <td>0.0</td>\n",
       "      <td>6652.0</td>\n",
       "      <td>0.0</td>\n",
       "      <td>181.0</td>\n",
       "      <td>585.0</td>\n",
       "      <td>Meratz Caltilter</td>\n",
       "    </tr>\n",
       "    <tr>\n",
       "      <th>4</th>\n",
       "      <td>0023_01</td>\n",
       "      <td>Earth</td>\n",
       "      <td>False</td>\n",
       "      <td>F/5/S</td>\n",
       "      <td>TRAPPIST-1e</td>\n",
       "      <td>20.0</td>\n",
       "      <td>False</td>\n",
       "      <td>10.0</td>\n",
       "      <td>0.0</td>\n",
       "      <td>635.0</td>\n",
       "      <td>0.0</td>\n",
       "      <td>0.0</td>\n",
       "      <td>Brence Harperez</td>\n",
       "    </tr>\n",
       "  </tbody>\n",
       "</table>\n",
       "</div>"
      ],
      "text/plain": [
       "  PassengerId HomePlanet  CryoSleep  Cabin  Destination   Age    VIP  \\\n",
       "0     0013_01      Earth       True  G/3/S  TRAPPIST-1e  27.0  False   \n",
       "1     0018_01      Earth      False  F/4/S  TRAPPIST-1e  19.0  False   \n",
       "2     0019_01     Europa       True  C/0/S  55 Cancri e  31.0  False   \n",
       "3     0021_01     Europa      False  C/1/S  TRAPPIST-1e  38.0  False   \n",
       "4     0023_01      Earth      False  F/5/S  TRAPPIST-1e  20.0  False   \n",
       "\n",
       "   RoomService  FoodCourt  ShoppingMall     Spa  VRDeck              Name  \n",
       "0          0.0        0.0           0.0     0.0     0.0   Nelly Carsoning  \n",
       "1          0.0        9.0           0.0  2823.0     0.0    Lerome Peckers  \n",
       "2          0.0        0.0           0.0     0.0     0.0   Sabih Unhearfus  \n",
       "3          0.0     6652.0           0.0   181.0   585.0  Meratz Caltilter  \n",
       "4         10.0        0.0         635.0     0.0     0.0   Brence Harperez  "
      ]
     },
     "execution_count": 30,
     "metadata": {},
     "output_type": "execute_result"
    }
   ],
   "source": [
    "# Replace the missing values with the maximum frequent value in categorical variables\n",
    "\n",
    "max_hom_p = test_df['HomePlanet'].value_counts().idxmax()\n",
    "max_cry = test_df['CryoSleep'].value_counts().idxmax()\n",
    "max_cab = test_df['Cabin'].value_counts().idxmax()\n",
    "max_dest = test_df['Destination'].value_counts().idxmax()\n",
    "max_vip = test_df['VIP'].value_counts().idxmax()\n",
    "test_df[\"HomePlanet\"].replace(np.nan, max_hom_p , inplace=True)\n",
    "test_df[\"CryoSleep\"].replace(np.nan, max_cry, inplace=True)\n",
    "test_df[\"Cabin\"].replace(np.nan, max_cab , inplace=True)\n",
    "test_df[\"Destination\"].replace(np.nan, max_dest , inplace=True)\n",
    "test_df[\"VIP\"].replace(np.nan, max_vip , inplace=True)\n",
    "test_df['Age'].replace(np.nan, test_df['Age'].mean(), inplace=True)\n",
    "test_df['RoomService'].replace(np.nan, test_df['RoomService'].mean(), inplace=True)\n",
    "test_df['FoodCourt'].replace(np.nan, test_df['FoodCourt'].mean(), inplace=True)\n",
    "test_df['ShoppingMall'].replace(np.nan, test_df['ShoppingMall'].mean(), inplace=True)\n",
    "test_df['Spa'].replace(np.nan, test_df['Spa'].mean(), inplace=True)\n",
    "test_df['VRDeck'].replace(np.nan, test_df['VRDeck'].mean(), inplace=True)\n",
    "test_df.head()\n"
   ]
  },
  {
   "cell_type": "code",
   "execution_count": 31,
   "metadata": {
    "execution": {
     "iopub.execute_input": "2022-07-17T23:09:44.474085Z",
     "iopub.status.busy": "2022-07-17T23:09:44.473729Z",
     "iopub.status.idle": "2022-07-17T23:09:44.500466Z",
     "shell.execute_reply": "2022-07-17T23:09:44.499240Z",
     "shell.execute_reply.started": "2022-07-17T23:09:44.474054Z"
    }
   },
   "outputs": [
    {
     "data": {
      "text/html": [
       "<div>\n",
       "<style scoped>\n",
       "    .dataframe tbody tr th:only-of-type {\n",
       "        vertical-align: middle;\n",
       "    }\n",
       "\n",
       "    .dataframe tbody tr th {\n",
       "        vertical-align: top;\n",
       "    }\n",
       "\n",
       "    .dataframe thead th {\n",
       "        text-align: right;\n",
       "    }\n",
       "</style>\n",
       "<table border=\"1\" class=\"dataframe\">\n",
       "  <thead>\n",
       "    <tr style=\"text-align: right;\">\n",
       "      <th></th>\n",
       "      <th>PassengerId</th>\n",
       "      <th>HomePlanet</th>\n",
       "      <th>CryoSleep</th>\n",
       "      <th>Cabin</th>\n",
       "      <th>Destination</th>\n",
       "      <th>Age</th>\n",
       "      <th>VIP</th>\n",
       "      <th>RoomService</th>\n",
       "      <th>FoodCourt</th>\n",
       "      <th>ShoppingMall</th>\n",
       "      <th>Spa</th>\n",
       "      <th>VRDeck</th>\n",
       "      <th>Name</th>\n",
       "    </tr>\n",
       "  </thead>\n",
       "  <tbody>\n",
       "    <tr>\n",
       "      <th>0</th>\n",
       "      <td>0013_01</td>\n",
       "      <td>Earth</td>\n",
       "      <td>True</td>\n",
       "      <td>G/3/S</td>\n",
       "      <td>TRAPPIST-1e</td>\n",
       "      <td>0.341772</td>\n",
       "      <td>False</td>\n",
       "      <td>0.000000</td>\n",
       "      <td>0.000000</td>\n",
       "      <td>0.00000</td>\n",
       "      <td>0.000000</td>\n",
       "      <td>0.000000</td>\n",
       "      <td>Nelly Carsoning</td>\n",
       "    </tr>\n",
       "    <tr>\n",
       "      <th>1</th>\n",
       "      <td>0018_01</td>\n",
       "      <td>Earth</td>\n",
       "      <td>False</td>\n",
       "      <td>F/4/S</td>\n",
       "      <td>TRAPPIST-1e</td>\n",
       "      <td>0.240506</td>\n",
       "      <td>False</td>\n",
       "      <td>0.000000</td>\n",
       "      <td>0.000356</td>\n",
       "      <td>0.00000</td>\n",
       "      <td>0.142260</td>\n",
       "      <td>0.000000</td>\n",
       "      <td>Lerome Peckers</td>\n",
       "    </tr>\n",
       "    <tr>\n",
       "      <th>2</th>\n",
       "      <td>0019_01</td>\n",
       "      <td>Europa</td>\n",
       "      <td>True</td>\n",
       "      <td>C/0/S</td>\n",
       "      <td>55 Cancri e</td>\n",
       "      <td>0.392405</td>\n",
       "      <td>False</td>\n",
       "      <td>0.000000</td>\n",
       "      <td>0.000000</td>\n",
       "      <td>0.00000</td>\n",
       "      <td>0.000000</td>\n",
       "      <td>0.000000</td>\n",
       "      <td>Sabih Unhearfus</td>\n",
       "    </tr>\n",
       "    <tr>\n",
       "      <th>3</th>\n",
       "      <td>0021_01</td>\n",
       "      <td>Europa</td>\n",
       "      <td>False</td>\n",
       "      <td>C/1/S</td>\n",
       "      <td>TRAPPIST-1e</td>\n",
       "      <td>0.481013</td>\n",
       "      <td>False</td>\n",
       "      <td>0.000000</td>\n",
       "      <td>0.263206</td>\n",
       "      <td>0.00000</td>\n",
       "      <td>0.009121</td>\n",
       "      <td>0.026266</td>\n",
       "      <td>Meratz Caltilter</td>\n",
       "    </tr>\n",
       "    <tr>\n",
       "      <th>4</th>\n",
       "      <td>0023_01</td>\n",
       "      <td>Earth</td>\n",
       "      <td>False</td>\n",
       "      <td>F/5/S</td>\n",
       "      <td>TRAPPIST-1e</td>\n",
       "      <td>0.253165</td>\n",
       "      <td>False</td>\n",
       "      <td>0.000865</td>\n",
       "      <td>0.000000</td>\n",
       "      <td>0.07658</td>\n",
       "      <td>0.000000</td>\n",
       "      <td>0.000000</td>\n",
       "      <td>Brence Harperez</td>\n",
       "    </tr>\n",
       "  </tbody>\n",
       "</table>\n",
       "</div>"
      ],
      "text/plain": [
       "  PassengerId HomePlanet  CryoSleep  Cabin  Destination       Age    VIP  \\\n",
       "0     0013_01      Earth       True  G/3/S  TRAPPIST-1e  0.341772  False   \n",
       "1     0018_01      Earth      False  F/4/S  TRAPPIST-1e  0.240506  False   \n",
       "2     0019_01     Europa       True  C/0/S  55 Cancri e  0.392405  False   \n",
       "3     0021_01     Europa      False  C/1/S  TRAPPIST-1e  0.481013  False   \n",
       "4     0023_01      Earth      False  F/5/S  TRAPPIST-1e  0.253165  False   \n",
       "\n",
       "   RoomService  FoodCourt  ShoppingMall       Spa    VRDeck              Name  \n",
       "0     0.000000   0.000000       0.00000  0.000000  0.000000   Nelly Carsoning  \n",
       "1     0.000000   0.000356       0.00000  0.142260  0.000000    Lerome Peckers  \n",
       "2     0.000000   0.000000       0.00000  0.000000  0.000000   Sabih Unhearfus  \n",
       "3     0.000000   0.263206       0.00000  0.009121  0.026266  Meratz Caltilter  \n",
       "4     0.000865   0.000000       0.07658  0.000000  0.000000   Brence Harperez  "
      ]
     },
     "execution_count": 31,
     "metadata": {},
     "output_type": "execute_result"
    }
   ],
   "source": [
    "from sklearn.preprocessing import MinMaxScaler\n",
    "\n",
    "# Initialize a scaler, then apply it to the features\n",
    "scaler = MinMaxScaler() # default=(0, 1)\n",
    "numerical = ['Age', 'RoomService', 'FoodCourt', 'ShoppingMall', 'Spa', 'VRDeck']\n",
    "\n",
    "test_df[numerical] = scaler.fit_transform(test_df[numerical])\n",
    "\n",
    "# Show an example of a record with scaling applied\n",
    "test_df.head()"
   ]
  },
  {
   "cell_type": "code",
   "execution_count": 32,
   "metadata": {
    "execution": {
     "iopub.execute_input": "2022-07-17T23:09:44.502856Z",
     "iopub.status.busy": "2022-07-17T23:09:44.501890Z",
     "iopub.status.idle": "2022-07-17T23:09:44.532730Z",
     "shell.execute_reply": "2022-07-17T23:09:44.531873Z",
     "shell.execute_reply.started": "2022-07-17T23:09:44.502813Z"
    }
   },
   "outputs": [
    {
     "data": {
      "text/html": [
       "<div>\n",
       "<style scoped>\n",
       "    .dataframe tbody tr th:only-of-type {\n",
       "        vertical-align: middle;\n",
       "    }\n",
       "\n",
       "    .dataframe tbody tr th {\n",
       "        vertical-align: top;\n",
       "    }\n",
       "\n",
       "    .dataframe thead th {\n",
       "        text-align: right;\n",
       "    }\n",
       "</style>\n",
       "<table border=\"1\" class=\"dataframe\">\n",
       "  <thead>\n",
       "    <tr style=\"text-align: right;\">\n",
       "      <th></th>\n",
       "      <th>PassengerId</th>\n",
       "      <th>HomePlanet</th>\n",
       "      <th>CryoSleep</th>\n",
       "      <th>Cabin</th>\n",
       "      <th>Destination</th>\n",
       "      <th>Age</th>\n",
       "      <th>VIP</th>\n",
       "      <th>RoomService</th>\n",
       "      <th>FoodCourt</th>\n",
       "      <th>ShoppingMall</th>\n",
       "      <th>Spa</th>\n",
       "      <th>VRDeck</th>\n",
       "      <th>Name</th>\n",
       "    </tr>\n",
       "  </thead>\n",
       "  <tbody>\n",
       "    <tr>\n",
       "      <th>0</th>\n",
       "      <td>0013_01</td>\n",
       "      <td>0</td>\n",
       "      <td>1</td>\n",
       "      <td>G/3/S</td>\n",
       "      <td>2</td>\n",
       "      <td>0.341772</td>\n",
       "      <td>0</td>\n",
       "      <td>0.000000</td>\n",
       "      <td>0.000000</td>\n",
       "      <td>0.00000</td>\n",
       "      <td>0.000000</td>\n",
       "      <td>0.000000</td>\n",
       "      <td>Nelly Carsoning</td>\n",
       "    </tr>\n",
       "    <tr>\n",
       "      <th>1</th>\n",
       "      <td>0018_01</td>\n",
       "      <td>0</td>\n",
       "      <td>0</td>\n",
       "      <td>F/4/S</td>\n",
       "      <td>2</td>\n",
       "      <td>0.240506</td>\n",
       "      <td>0</td>\n",
       "      <td>0.000000</td>\n",
       "      <td>0.000356</td>\n",
       "      <td>0.00000</td>\n",
       "      <td>0.142260</td>\n",
       "      <td>0.000000</td>\n",
       "      <td>Lerome Peckers</td>\n",
       "    </tr>\n",
       "    <tr>\n",
       "      <th>2</th>\n",
       "      <td>0019_01</td>\n",
       "      <td>1</td>\n",
       "      <td>1</td>\n",
       "      <td>C/0/S</td>\n",
       "      <td>0</td>\n",
       "      <td>0.392405</td>\n",
       "      <td>0</td>\n",
       "      <td>0.000000</td>\n",
       "      <td>0.000000</td>\n",
       "      <td>0.00000</td>\n",
       "      <td>0.000000</td>\n",
       "      <td>0.000000</td>\n",
       "      <td>Sabih Unhearfus</td>\n",
       "    </tr>\n",
       "    <tr>\n",
       "      <th>3</th>\n",
       "      <td>0021_01</td>\n",
       "      <td>1</td>\n",
       "      <td>0</td>\n",
       "      <td>C/1/S</td>\n",
       "      <td>2</td>\n",
       "      <td>0.481013</td>\n",
       "      <td>0</td>\n",
       "      <td>0.000000</td>\n",
       "      <td>0.263206</td>\n",
       "      <td>0.00000</td>\n",
       "      <td>0.009121</td>\n",
       "      <td>0.026266</td>\n",
       "      <td>Meratz Caltilter</td>\n",
       "    </tr>\n",
       "    <tr>\n",
       "      <th>4</th>\n",
       "      <td>0023_01</td>\n",
       "      <td>0</td>\n",
       "      <td>0</td>\n",
       "      <td>F/5/S</td>\n",
       "      <td>2</td>\n",
       "      <td>0.253165</td>\n",
       "      <td>0</td>\n",
       "      <td>0.000865</td>\n",
       "      <td>0.000000</td>\n",
       "      <td>0.07658</td>\n",
       "      <td>0.000000</td>\n",
       "      <td>0.000000</td>\n",
       "      <td>Brence Harperez</td>\n",
       "    </tr>\n",
       "  </tbody>\n",
       "</table>\n",
       "</div>"
      ],
      "text/plain": [
       "  PassengerId  HomePlanet  CryoSleep  Cabin  Destination       Age  VIP  \\\n",
       "0     0013_01           0          1  G/3/S            2  0.341772    0   \n",
       "1     0018_01           0          0  F/4/S            2  0.240506    0   \n",
       "2     0019_01           1          1  C/0/S            0  0.392405    0   \n",
       "3     0021_01           1          0  C/1/S            2  0.481013    0   \n",
       "4     0023_01           0          0  F/5/S            2  0.253165    0   \n",
       "\n",
       "   RoomService  FoodCourt  ShoppingMall       Spa    VRDeck              Name  \n",
       "0     0.000000   0.000000       0.00000  0.000000  0.000000   Nelly Carsoning  \n",
       "1     0.000000   0.000356       0.00000  0.142260  0.000000    Lerome Peckers  \n",
       "2     0.000000   0.000000       0.00000  0.000000  0.000000   Sabih Unhearfus  \n",
       "3     0.000000   0.263206       0.00000  0.009121  0.026266  Meratz Caltilter  \n",
       "4     0.000865   0.000000       0.07658  0.000000  0.000000   Brence Harperez  "
      ]
     },
     "execution_count": 32,
     "metadata": {},
     "output_type": "execute_result"
    }
   ],
   "source": [
    "from sklearn import preprocessing\n",
    "le = preprocessing.LabelEncoder()\n",
    "categorical = ['HomePlanet', 'CryoSleep', 'Cabin', 'Destination', 'VIP']\n",
    "test_df_transform = test_df\n",
    "test_df_transform['HomePlanet'] = le.fit_transform(test_df_transform['HomePlanet'])\n",
    "test_df_transform['Destination'] = le.fit_transform(test_df_transform['Destination'])\n",
    "test_df_transform['VIP'] = le.fit_transform(test_df_transform['VIP'])\n",
    "test_df_transform['CryoSleep'] = le.fit_transform(test_df_transform['CryoSleep'])\n",
    "\n",
    "\n",
    "test_df_transform.head()"
   ]
  },
  {
   "cell_type": "code",
   "execution_count": 33,
   "metadata": {
    "execution": {
     "iopub.execute_input": "2022-07-17T23:09:44.538062Z",
     "iopub.status.busy": "2022-07-17T23:09:44.536447Z",
     "iopub.status.idle": "2022-07-17T23:09:44.545153Z",
     "shell.execute_reply": "2022-07-17T23:09:44.544084Z",
     "shell.execute_reply.started": "2022-07-17T23:09:44.538004Z"
    }
   },
   "outputs": [],
   "source": [
    "# Drop name and cabin columns from test data also\n",
    "test_f= test_df_transform.drop(['Name','Cabin'],axis=1)\n"
   ]
  },
  {
   "cell_type": "markdown",
   "metadata": {},
   "source": [
    "**Models application and choosing the best one according to evalaution**"
   ]
  },
  {
   "cell_type": "code",
   "execution_count": 34,
   "metadata": {
    "execution": {
     "iopub.execute_input": "2022-07-17T23:09:44.548053Z",
     "iopub.status.busy": "2022-07-17T23:09:44.547329Z",
     "iopub.status.idle": "2022-07-17T23:10:04.053404Z",
     "shell.execute_reply": "2022-07-17T23:10:04.052134Z",
     "shell.execute_reply.started": "2022-07-17T23:09:44.548007Z"
    }
   },
   "outputs": [
    {
     "name": "stdout",
     "output_type": "stream",
     "text": [
      "LDA: 0.759578 (0.016260)\n",
      "ADB: 0.789374 (0.014617)\n",
      "RF: 0.780285 (0.018294)\n"
     ]
    }
   ],
   "source": [
    "from sklearn import model_selection\n",
    "from sklearn.discriminant_analysis import LinearDiscriminantAnalysis\n",
    "from sklearn.ensemble import AdaBoostClassifier\n",
    "from sklearn.ensemble import RandomForestClassifier\n",
    "\n",
    "# Defining number of folds\n",
    "num_folds = 10\n",
    "num_instances = len(train_f)\n",
    "seed = 7\n",
    "\n",
    "# Preparing models\n",
    "models = []\n",
    "models.append(('LDA', LinearDiscriminantAnalysis()))\n",
    "models.append(('ADB', AdaBoostClassifier()))\n",
    "models.append(('RF', RandomForestClassifier()))\n",
    "\n",
    "\n",
    "# Model Evaluation\n",
    "results = []\n",
    "names = []\n",
    "\n",
    "for name, model in models:\n",
    "    kfold = model_selection.KFold(n_splits = num_folds)\n",
    "    cv_results = model_selection.cross_val_score(model, xtrain, ytrain, cv = kfold, scoring = 'accuracy')\n",
    "    results.append(cv_results)\n",
    "    names.append(name)\n",
    "    msg = \"%s: %f (%f)\" % (name, cv_results.mean(), cv_results.std())\n",
    "    print(msg)\n",
    "\n"
   ]
  },
  {
   "cell_type": "code",
   "execution_count": 35,
   "metadata": {
    "execution": {
     "iopub.execute_input": "2022-07-17T23:10:04.054964Z",
     "iopub.status.busy": "2022-07-17T23:10:04.054657Z",
     "iopub.status.idle": "2022-07-17T23:10:11.193733Z",
     "shell.execute_reply": "2022-07-17T23:10:11.192821Z",
     "shell.execute_reply.started": "2022-07-17T23:10:04.054937Z"
    }
   },
   "outputs": [],
   "source": [
    "from sklearn.ensemble import GradientBoostingClassifier\n",
    "\n",
    "Model2 = GradientBoostingClassifier(n_estimators = 850, learning_rate = 1, max_depth = 2, random_state = 0)\n",
    "\n",
    "# Training model and checking the score\n",
    "Model2.fit(xtrain, ytrain)\n",
    "Model2.score(xtrain,ytrain)  \n",
    "\n",
    "# Predictions\n",
    "ypredgb=Model2.predict(test_f)"
   ]
  },
  {
   "cell_type": "code",
   "execution_count": 36,
   "metadata": {
    "execution": {
     "iopub.execute_input": "2022-07-17T23:10:11.195234Z",
     "iopub.status.busy": "2022-07-17T23:10:11.194927Z",
     "iopub.status.idle": "2022-07-17T23:10:11.262324Z",
     "shell.execute_reply": "2022-07-17T23:10:11.261642Z",
     "shell.execute_reply.started": "2022-07-17T23:10:11.195205Z"
    }
   },
   "outputs": [
    {
     "data": {
      "text/plain": [
       "95.3"
      ]
     },
     "execution_count": 36,
     "metadata": {},
     "output_type": "execute_result"
    }
   ],
   "source": [
    "acc_log = round(Model2.score(xtrain,ytrain) * 100, 2)\n",
    "acc_log"
   ]
  },
  {
   "cell_type": "markdown",
   "metadata": {},
   "source": [
    "**According to previous steps we will choose gradiant boosting model for prediction**"
   ]
  },
  {
   "cell_type": "code",
   "execution_count": 37,
   "metadata": {
    "execution": {
     "iopub.execute_input": "2022-07-17T23:10:11.266095Z",
     "iopub.status.busy": "2022-07-17T23:10:11.265034Z",
     "iopub.status.idle": "2022-07-17T23:10:11.273377Z",
     "shell.execute_reply": "2022-07-17T23:10:11.272107Z",
     "shell.execute_reply.started": "2022-07-17T23:10:11.266059Z"
    }
   },
   "outputs": [
    {
     "data": {
      "text/plain": [
       "array([ True, False,  True,  True,  True])"
      ]
     },
     "execution_count": 37,
     "metadata": {},
     "output_type": "execute_result"
    }
   ],
   "source": [
    "# transfer transported into boolian\n",
    "Transported = ypredgb.astype(bool)\n",
    "Transported[0:5]"
   ]
  },
  {
   "cell_type": "code",
   "execution_count": 38,
   "metadata": {
    "execution": {
     "iopub.execute_input": "2022-07-17T23:10:11.275279Z",
     "iopub.status.busy": "2022-07-17T23:10:11.274940Z",
     "iopub.status.idle": "2022-07-17T23:10:11.286763Z",
     "shell.execute_reply": "2022-07-17T23:10:11.285811Z",
     "shell.execute_reply.started": "2022-07-17T23:10:11.275249Z"
    }
   },
   "outputs": [
    {
     "data": {
      "text/plain": [
       "(4277, 2)"
      ]
     },
     "execution_count": 38,
     "metadata": {},
     "output_type": "execute_result"
    }
   ],
   "source": [
    "submission = pd.DataFrame({\n",
    "        \"PassengerId\": test_f[\"PassengerId\"],\n",
    "        \"Transported\": Transported\n",
    "    })\n",
    "submission.shape"
   ]
  },
  {
   "cell_type": "code",
   "execution_count": 39,
   "metadata": {
    "execution": {
     "iopub.execute_input": "2022-07-17T23:10:11.288938Z",
     "iopub.status.busy": "2022-07-17T23:10:11.288490Z",
     "iopub.status.idle": "2022-07-17T23:10:11.306235Z",
     "shell.execute_reply": "2022-07-17T23:10:11.305514Z",
     "shell.execute_reply.started": "2022-07-17T23:10:11.288896Z"
    }
   },
   "outputs": [],
   "source": [
    "# submission.to_csv('.//submission.csv', index=False)"
   ]
  }
 ],
 "metadata": {
  "kernelspec": {
   "display_name": "Python 3 (ipykernel)",
   "language": "python",
   "name": "python3"
  },
  "language_info": {
   "codemirror_mode": {
    "name": "ipython",
    "version": 3
   },
   "file_extension": ".py",
   "mimetype": "text/x-python",
   "name": "python",
   "nbconvert_exporter": "python",
   "pygments_lexer": "ipython3",
   "version": "3.9.6"
  }
 },
 "nbformat": 4,
 "nbformat_minor": 4
}
